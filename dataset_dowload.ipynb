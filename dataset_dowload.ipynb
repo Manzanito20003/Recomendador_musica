{
 "cells": [
  {
   "cell_type": "code",
   "execution_count": 2,
   "id": "01d215e3",
   "metadata": {},
   "outputs": [
    {
     "name": "stderr",
     "output_type": "stream",
     "text": [
      "c:\\Users\\jefersson\\Desktop\\ANACONDA\\.venv\\Lib\\site-packages\\tqdm\\auto.py:21: TqdmWarning: IProgress not found. Please update jupyter and ipywidgets. See https://ipywidgets.readthedocs.io/en/stable/user_install.html\n",
      "  from .autonotebook import tqdm as notebook_tqdm\n"
     ]
    },
    {
     "name": "stdout",
     "output_type": "stream",
     "text": [
      "Cantidad de ejemplos: 2988\n"
     ]
    }
   ],
   "source": [
    "from datasets import load_dataset\n",
    "import IPython.display as ipd\n",
    "\n",
    "dataset = load_dataset(\"Feanix/gtzan-10-sec\", cache_dir=\"./audio\")\n",
    "\n",
    "print(\"Cantidad de ejemplos:\", len(dataset[\"train\"]))\n"
   ]
  },
  {
   "cell_type": "code",
   "execution_count": 4,
   "id": "5b63a159",
   "metadata": {},
   "outputs": [
    {
     "name": "stdout",
     "output_type": "stream",
     "text": [
      "{'file': Value(dtype='string', id=None), 'audio': Audio(sampling_rate=22050, mono=True, decode=True, id=None), 'genre': ClassLabel(names=['blues', 'classical', 'country', 'disco', 'hiphop', 'jazz', 'metal', 'pop', 'reggae', 'rock'], id=None)}\n"
     ]
    }
   ],
   "source": [
    "#ver atributos \n",
    "print(dataset[\"train\"].features)"
   ]
  },
  {
   "cell_type": "code",
   "execution_count": null,
   "id": "4674baf0",
   "metadata": {},
   "outputs": [
    {
     "name": "stdout",
     "output_type": "stream",
     "text": [
      "length: 220500\n",
      "Género: 0\n",
      "220500\n"
     ]
    }
   ],
   "source": [
    "# Ejemplo: escuchar el primer clip\n",
    "sample = dataset[\"train\"][200]\n",
    "print(\"length:\", len(sample[\"audio\"][\"array\"]))\n",
    "print(\"Género:\", sample[\"genre\"])\n",
    "ipd.Audio(sample[\"audio\"][\"array\"], rate=sample[\"audio\"][\"sampling_rate\"])\n",
    "\n"
   ]
  },
  {
   "cell_type": "code",
   "execution_count": null,
   "id": "c0571888",
   "metadata": {},
   "outputs": [
    {
     "name": "stdout",
     "output_type": "stream",
     "text": [
      "{'path': 'blues.00066_3.wav', 'array': array([-0.1817627 , -0.20077515, -0.22250366, ..., -0.01257324,\n",
      "       -0.01647949, -0.0244751 ], shape=(220500,)), 'sampling_rate': 22050}\n"
     ]
    }
   ],
   "source": [
    "print(sample[\"audio\"])"
   ]
  }
 ],
 "metadata": {
  "kernelspec": {
   "display_name": ".venv",
   "language": "python",
   "name": "python3"
  },
  "language_info": {
   "codemirror_mode": {
    "name": "ipython",
    "version": 3
   },
   "file_extension": ".py",
   "mimetype": "text/x-python",
   "name": "python",
   "nbconvert_exporter": "python",
   "pygments_lexer": "ipython3",
   "version": "3.11.1"
  }
 },
 "nbformat": 4,
 "nbformat_minor": 5
}
